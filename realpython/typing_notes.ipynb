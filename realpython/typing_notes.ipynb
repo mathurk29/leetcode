{
 "cells": [
  {
   "cell_type": "markdown",
   "metadata": {},
   "source": [
    "### Union"
   ]
  },
  {
   "cell_type": "code",
   "execution_count": 1,
   "metadata": {},
   "outputs": [
    {
     "ename": "TypeError",
     "evalue": "say_hi() missing 1 required positional argument: 'name'",
     "output_type": "error",
     "traceback": [
      "\u001b[0;31m---------------------------------------------------------------------------\u001b[0m",
      "\u001b[0;31mTypeError\u001b[0m                                 Traceback (most recent call last)",
      "Cell \u001b[0;32mIn[1], line 10\u001b[0m\n\u001b[1;32m      7\u001b[0m \u001b[38;5;28;01mdef\u001b[39;00m\u001b[38;5;250m \u001b[39m\u001b[38;5;21msay_hi\u001b[39m(name: Optional[\u001b[38;5;28mstr\u001b[39m]):\n\u001b[1;32m      8\u001b[0m     \u001b[38;5;28mprint\u001b[39m(\u001b[38;5;124mf\u001b[39m\u001b[38;5;124m\"\u001b[39m\u001b[38;5;124mHey \u001b[39m\u001b[38;5;132;01m{\u001b[39;00mname\u001b[38;5;132;01m}\u001b[39;00m\u001b[38;5;124m!\u001b[39m\u001b[38;5;124m\"\u001b[39m)\n\u001b[0;32m---> 10\u001b[0m \u001b[43msay_hi\u001b[49m\u001b[43m(\u001b[49m\u001b[43m)\u001b[49m  \u001b[38;5;66;03m# Oh, no, this throws an error! 😱\u001b[39;00m\n",
      "\u001b[0;31mTypeError\u001b[0m: say_hi() missing 1 required positional argument: 'name'"
     ]
    }
   ],
   "source": [
    "# Use Union instead of Optional because the word \"optional\" would seem to imply that the value is optional, and it actually means \"it can be None\", even if it's not optional and is still required\n",
    "\n",
    "\n",
    "from typing import Optional\n",
    "\n",
    "\n",
    "def say_hi(name: Optional[str]):\n",
    "    print(f\"Hey {name}!\")\n",
    "\n",
    "say_hi()  # Oh, no, this throws an error! 😱\n"
   ]
  },
  {
   "cell_type": "code",
   "execution_count": 2,
   "metadata": {},
   "outputs": [
    {
     "name": "stdout",
     "output_type": "stream",
     "text": [
      "Hey None!\n"
     ]
    }
   ],
   "source": [
    "say_hi(name=None)  # This works, None is valid 🎉"
   ]
  },
  {
   "cell_type": "code",
   "execution_count": 6,
   "metadata": {},
   "outputs": [
    {
     "name": "stdout",
     "output_type": "stream",
     "text": [
      "Hey Ksh!\n"
     ]
    }
   ],
   "source": [
    "# Python 3.10+  you won't have to worry about names like Optional and Union\n",
    "def say_hi(name: str | None):\n",
    "    print(f\"Hey {name}!\")\n",
    "\n",
    "say_hi('Ksh')"
   ]
  },
  {
   "cell_type": "markdown",
   "metadata": {},
   "source": [
    "### Generic Types\n"
   ]
  },
  {
   "cell_type": "code",
   "execution_count": null,
   "metadata": {},
   "outputs": [],
   "source": [
    "\n",
    "# types that take type parameters in square brackets\n"
   ]
  },
  {
   "cell_type": "markdown",
   "metadata": {},
   "source": [
    "### Required Fields in Pydantic"
   ]
  },
  {
   "cell_type": "code",
   "execution_count": 8,
   "metadata": {},
   "outputs": [],
   "source": [
    "from pydantic import BaseModel, Field\n",
    "\n",
    "# Following are the ways to declare a field as required in Pydantic\n",
    "# 1. Just using anotatation without a default value\n",
    "# 2. Use the `...` ellipsis\n",
    "# 3. Use the `Field(...)` function\n",
    "class Model(BaseModel):\n",
    "    a: int\n",
    "    b: int = ...\n",
    "    c: int = Field(...)\n"
   ]
  },
  {
   "cell_type": "markdown",
   "metadata": {},
   "source": [
    "## Metadata in Type Hints - Annotated  "
   ]
  },
  {
   "cell_type": "code",
   "execution_count": null,
   "metadata": {},
   "outputs": [],
   "source": [
    "from typing import Annotated\n",
    "\n",
    "\n",
    "def say_hello(name: Annotated[str, \"this is just metadata\"]) -> str:\n",
    "    return f\"Hello {name}\"\n",
    "\n",
    "\n",
    "# Python itself doesn't do anything with this Annotated\n",
    "\n",
    "# But you can use this space in Annotated to provide FastAPI with additional metadata about how you want your application to behave.\n",
    "\n",
    "# The important thing to remember is that the first type parameter you pass to Annotated is the actual type. The rest, is just metadata for other tools.\n",
    "\n"
   ]
  }
 ],
 "metadata": {
  "kernelspec": {
   "display_name": "leetcode-venv",
   "language": "python",
   "name": "python3"
  },
  "language_info": {
   "codemirror_mode": {
    "name": "ipython",
    "version": 3
   },
   "file_extension": ".py",
   "mimetype": "text/x-python",
   "name": "python",
   "nbconvert_exporter": "python",
   "pygments_lexer": "ipython3",
   "version": "3.11.9"
  }
 },
 "nbformat": 4,
 "nbformat_minor": 2
}

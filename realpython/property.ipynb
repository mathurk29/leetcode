{
 "cells": [
  {
   "cell_type": "code",
   "execution_count": null,
   "metadata": {},
   "outputs": [],
   "source": [
    "# Simple example\n",
    "\n",
    "class Circle:\n",
    "    def __init__(self, radius):\n",
    "        self._radius = radius\n",
    "\n",
    "    @property\n",
    "    def radius(self):\n",
    "        \"\"\"The radius property.\"\"\"\n",
    "        print(\"Get radius\")\n",
    "        return self._radius\n",
    "\n",
    "    @radius.setter\n",
    "    def radius(self, value):\n",
    "        print(\"Set radius\")\n",
    "        self._radius = value\n",
    "\n",
    "    @radius.deleter\n",
    "    def radius(self):\n",
    "        print(\"Delete radius\")\n",
    "        del self._radius"
   ]
  },
  {
   "cell_type": "code",
   "execution_count": null,
   "metadata": {},
   "outputs": [],
   "source": [
    "# Read only attr\n",
    "\n",
    "class Point:\n",
    "    def __init__(self, x, y):\n",
    "        self._x = x\n",
    "        self._y = y\n",
    "\n",
    "    @property\n",
    "    def x(self):\n",
    "        return self._x\n",
    "\n",
    "    @property\n",
    "    def y(self):\n",
    "        return self._y\n",
    "    \n",
    "\n",
    "# or\n",
    "\n",
    "class WriteCoordinateError(Exception):\n",
    "    pass\n",
    "\n",
    "class Point:\n",
    "    def __init__(self, x, y):\n",
    "        self._x = x\n",
    "        self._y = y\n",
    "\n",
    "    @property\n",
    "    def x(self):\n",
    "        return self._x\n",
    "\n",
    "    @x.setter\n",
    "    def x(self, value):\n",
    "        raise WriteCoordinateError(\"x coordinate is read-only\")\n",
    "\n",
    "    @property\n",
    "    def y(self):\n",
    "        return self._y\n",
    "\n",
    "    @y.setter\n",
    "    def y(self, value):\n",
    "        raise WriteCoordinateError(\"y coordinate is read-only\")"
   ]
  },
  {
   "cell_type": "code",
   "execution_count": null,
   "metadata": {},
   "outputs": [
    {
     "name": "stdout",
     "output_type": "stream",
     "text": [
      "42.0\n",
      "84.0\n",
      "100.0\n",
      "50.0\n"
     ]
    }
   ],
   "source": [
    "class Circle:\n",
    "    def __init__(self, radius):\n",
    "        self.radius = radius # note that we are assigning to the property not _radius\n",
    "\n",
    "    @property\n",
    "    def radius(self):\n",
    "        return self._radius\n",
    "\n",
    "    @radius.setter\n",
    "    def radius(self, value):\n",
    "        self._radius = float(value) # here we are defining _radius\n",
    "\n",
    "    @property\n",
    "    def diameter(self):\n",
    "        return self.radius * 2\n",
    "\n",
    "    @diameter.setter\n",
    "    def diameter(self, value):\n",
    "        self.radius = value / 2\n",
    "\n",
    "\n",
    "circle = Circle(42)\n",
    "print(circle.radius)\n",
    "print(circle.diameter)\n",
    "\n",
    "# change diameter\n",
    "circle.diameter = 100\n",
    "print(circle.diameter)\n",
    "print(circle.radius)\n"
   ]
  },
  {
   "cell_type": "code",
   "execution_count": 14,
   "metadata": {},
   "outputs": [
    {
     "name": "stdout",
     "output_type": "stream",
     "text": [
      "b'\\xd3\\\\i\\xe2#\\xd58?k\\x88P\\xcc\\x83\\xb9\\xb6\\xf5O\\xc4\\x9b\\xd8\\xa0DC\\x06G\\x13\\xe4\\x94\\xb4\\xe1\\xceH'\n"
     ]
    }
   ],
   "source": [
    "# write only attr\n",
    "\n",
    "import hashlib\n",
    "import os\n",
    "\n",
    "class User:\n",
    "    def __init__(self, name, password):\n",
    "        self.name = name\n",
    "        self.password = password\n",
    "\n",
    "    @property\n",
    "    def password(self):\n",
    "        raise AttributeError(\"Password is write-only\")\n",
    "\n",
    "    @password.setter\n",
    "    def password(self, plaintext):\n",
    "        salt = os.urandom(32)\n",
    "        self._hashed_password = hashlib.pbkdf2_hmac(\n",
    "            \"sha256\", plaintext.encode(\"utf-8\"), salt, 100_000\n",
    "        )\n",
    "\n",
    "\n",
    "john = User(\"John\", \"secret\")\n",
    "print(john._hashed_password)"
   ]
  },
  {
   "cell_type": "code",
   "execution_count": 17,
   "metadata": {},
   "outputs": [
    {
     "ename": "AttributeError",
     "evalue": "Password is write-only",
     "output_type": "error",
     "traceback": [
      "\u001b[0;31m---------------------------------------------------------------------------\u001b[0m",
      "\u001b[0;31mAttributeError\u001b[0m                            Traceback (most recent call last)",
      "Cell \u001b[0;32mIn[17], line 2\u001b[0m\n\u001b[1;32m      1\u001b[0m \u001b[38;5;66;03m# this should give error\u001b[39;00m\n\u001b[0;32m----> 2\u001b[0m \u001b[38;5;28mprint\u001b[39m(\u001b[43mjohn\u001b[49m\u001b[38;5;241;43m.\u001b[39;49m\u001b[43mpassword\u001b[49m)\n",
      "Cell \u001b[0;32mIn[14], line 13\u001b[0m, in \u001b[0;36mUser.password\u001b[0;34m(self)\u001b[0m\n\u001b[1;32m     11\u001b[0m \u001b[38;5;129m@property\u001b[39m\n\u001b[1;32m     12\u001b[0m \u001b[38;5;28;01mdef\u001b[39;00m\u001b[38;5;250m \u001b[39m\u001b[38;5;21mpassword\u001b[39m(\u001b[38;5;28mself\u001b[39m):\n\u001b[0;32m---> 13\u001b[0m     \u001b[38;5;28;01mraise\u001b[39;00m \u001b[38;5;167;01mAttributeError\u001b[39;00m(\u001b[38;5;124m\"\u001b[39m\u001b[38;5;124mPassword is write-only\u001b[39m\u001b[38;5;124m\"\u001b[39m)\n",
      "\u001b[0;31mAttributeError\u001b[0m: Password is write-only"
     ]
    }
   ],
   "source": [
    "# this should give error\n",
    "print(john.password)\n"
   ]
  },
  {
   "cell_type": "code",
   "execution_count": 18,
   "metadata": {},
   "outputs": [
    {
     "data": {
      "text/plain": [
       "b'c*\\xad/\\xc1\\xc5\\xd3 \\x91\\x0b\\x11\\xa9\\xd1r.\\n\\xd6L\\x8c\\x81\\x91at\\xb7\\xfaJZ\\x88\\x03-::'"
      ]
     },
     "execution_count": 18,
     "metadata": {},
     "output_type": "execute_result"
    }
   ],
   "source": [
    "john.password = \"supersecret\"\n",
    "john._hashed_password"
   ]
  },
  {
   "cell_type": "code",
   "execution_count": 23,
   "metadata": {},
   "outputs": [
    {
     "name": "stdout",
     "output_type": "stream",
     "text": [
      "Validated!\n",
      "Validated!\n",
      "12.0\n"
     ]
    },
    {
     "ename": "ValueError",
     "evalue": "\"x\" must be a number",
     "output_type": "error",
     "traceback": [
      "\u001b[0;31m---------------------------------------------------------------------------\u001b[0m",
      "\u001b[0;31mValueError\u001b[0m                                Traceback (most recent call last)",
      "Cell \u001b[0;32mIn[23], line 33\u001b[0m\n\u001b[1;32m     31\u001b[0m point \u001b[38;5;241m=\u001b[39m Point(\u001b[38;5;241m12\u001b[39m, \u001b[38;5;241m5\u001b[39m)\n\u001b[1;32m     32\u001b[0m \u001b[38;5;28mprint\u001b[39m(point\u001b[38;5;241m.\u001b[39mx)\n\u001b[0;32m---> 33\u001b[0m \u001b[43mpoint\u001b[49m\u001b[38;5;241;43m.\u001b[39;49m\u001b[43mx\u001b[49m \u001b[38;5;241m=\u001b[39m \u001b[38;5;124m\"\u001b[39m\u001b[38;5;124mone\u001b[39m\u001b[38;5;124m\"\u001b[39m\n",
      "Cell \u001b[0;32mIn[23], line 18\u001b[0m, in \u001b[0;36mPoint.x\u001b[0;34m(self, value)\u001b[0m\n\u001b[1;32m     16\u001b[0m     \u001b[38;5;28mprint\u001b[39m(\u001b[38;5;124m\"\u001b[39m\u001b[38;5;124mValidated!\u001b[39m\u001b[38;5;124m\"\u001b[39m)\n\u001b[1;32m     17\u001b[0m \u001b[38;5;28;01mexcept\u001b[39;00m \u001b[38;5;167;01mValueError\u001b[39;00m:\n\u001b[0;32m---> 18\u001b[0m     \u001b[38;5;28;01mraise\u001b[39;00m \u001b[38;5;167;01mValueError\u001b[39;00m(\u001b[38;5;124m'\u001b[39m\u001b[38;5;124m\"\u001b[39m\u001b[38;5;124mx\u001b[39m\u001b[38;5;124m\"\u001b[39m\u001b[38;5;124m must be a number\u001b[39m\u001b[38;5;124m'\u001b[39m) \u001b[38;5;28;01mfrom\u001b[39;00m\u001b[38;5;250m \u001b[39m\u001b[38;5;28;01mNone\u001b[39;00m\n",
      "\u001b[0;31mValueError\u001b[0m: \"x\" must be a number"
     ]
    }
   ],
   "source": [
    "# Use case: Validate input\n",
    "\n",
    "class Point:\n",
    "    def __init__(self, x, y):\n",
    "        self.x = x\n",
    "        self.y = y\n",
    "\n",
    "    @property\n",
    "    def x(self):\n",
    "        return self._x\n",
    "\n",
    "    @x.setter\n",
    "    def x(self, value):\n",
    "        try:\n",
    "            self._x = float(value)\n",
    "            print(\"Validated!\")\n",
    "        except ValueError:\n",
    "            raise ValueError('\"x\" must be a number') from None\n",
    "\n",
    "    @property\n",
    "    def y(self):\n",
    "        return self._y\n",
    "\n",
    "    @y.setter\n",
    "    def y(self, value):\n",
    "        try:\n",
    "            self._y = float(value)\n",
    "            print(\"Validated!\")\n",
    "        except ValueError:\n",
    "            raise ValueError('\"y\" must be a number') from None\n",
    "point = Point(12, 5)\n",
    "print(point.x)\n",
    "point.x = \"one\"\n"
   ]
  },
  {
   "cell_type": "code",
   "execution_count": null,
   "metadata": {},
   "outputs": [],
   "source": [
    "# Use case: Lazy Computed attributes\n",
    "\n",
    "class Rectangle:\n",
    "    def __init__(self, width, height):\n",
    "        self.width = width\n",
    "        self.height = height\n",
    "\n",
    "    @property\n",
    "    def area(self):\n",
    "        return self.width * self.height # computed only when area is accessed"
   ]
  },
  {
   "cell_type": "code",
   "execution_count": null,
   "metadata": {},
   "outputs": [],
   "source": [
    "# Formatted Value\n",
    "\n",
    "class Product:\n",
    "    def __init__(self, name, price):\n",
    "        self._name = name\n",
    "        self._price = float(price)\n",
    "\n",
    "    @property\n",
    "    def price(self):\n",
    "        return f\"${self._price:,.2f}\""
   ]
  },
  {
   "cell_type": "code",
   "execution_count": null,
   "metadata": {},
   "outputs": [],
   "source": []
  }
 ],
 "metadata": {
  "kernelspec": {
   "display_name": "leetcode-venv",
   "language": "python",
   "name": "python3"
  },
  "language_info": {
   "codemirror_mode": {
    "name": "ipython",
    "version": 3
   },
   "file_extension": ".py",
   "mimetype": "text/x-python",
   "name": "python",
   "nbconvert_exporter": "python",
   "pygments_lexer": "ipython3",
   "version": "3.11.9"
  }
 },
 "nbformat": 4,
 "nbformat_minor": 2
}

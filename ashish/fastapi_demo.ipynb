{
 "cells": [
  {
   "cell_type": "markdown",
   "metadata": {},
   "source": [
    "## What does Pydantic do?"
   ]
  },
  {
   "cell_type": "code",
   "execution_count": null,
   "metadata": {},
   "outputs": [
    {
     "data": {
      "text/plain": [
       "{'x': int, 'y': int}"
      ]
     },
     "execution_count": 1,
     "metadata": {},
     "output_type": "execute_result"
    }
   ],
   "source": [
    "class Point:\n",
    "    x: int\n",
    "    y: int\n",
    "\n",
    "\n",
    "Point.__annotations__"
   ]
  },
  {
   "cell_type": "code",
   "execution_count": 9,
   "metadata": {},
   "outputs": [
    {
     "ename": "ValidationError",
     "evalue": "",
     "output_type": "error",
     "traceback": [
      "\u001b[0;31m---------------------------------------------------------------------------\u001b[0m",
      "\u001b[0;31mValidationError\u001b[0m                           Traceback (most recent call last)",
      "Cell \u001b[0;32mIn[9], line 18\u001b[0m\n\u001b[1;32m     15\u001b[0m     x: \u001b[38;5;28mint\u001b[39m\n\u001b[1;32m     16\u001b[0m     y: \u001b[38;5;28mint\u001b[39m\n\u001b[0;32m---> 18\u001b[0m \u001b[43mPoint\u001b[49m\u001b[43m(\u001b[49m\u001b[43mx\u001b[49m\u001b[38;5;241;43m=\u001b[39;49m\u001b[38;5;241;43m3\u001b[39;49m\u001b[43m,\u001b[49m\u001b[43my\u001b[49m\u001b[38;5;241;43m=\u001b[39;49m\u001b[38;5;124;43m\"\u001b[39;49m\u001b[38;5;124;43m4\u001b[39;49m\u001b[38;5;124;43m\"\u001b[39;49m\u001b[43m)\u001b[49m \u001b[38;5;66;03m# raises ValidationError\u001b[39;00m\n",
      "Cell \u001b[0;32mIn[9], line 11\u001b[0m, in \u001b[0;36mBaseValidator.__init__\u001b[0;34m(self, **kwargs)\u001b[0m\n\u001b[1;32m      9\u001b[0m value \u001b[38;5;241m=\u001b[39m kwargs\u001b[38;5;241m.\u001b[39mget(f_name)\n\u001b[1;32m     10\u001b[0m \u001b[38;5;28;01mif\u001b[39;00m \u001b[38;5;129;01mnot\u001b[39;00m \u001b[38;5;28misinstance\u001b[39m(value, f_type):\n\u001b[0;32m---> 11\u001b[0m     \u001b[38;5;28;01mraise\u001b[39;00m ValidationError\n",
      "\u001b[0;31mValidationError\u001b[0m: "
     ]
    }
   ],
   "source": [
    "\n",
    "# Lets' try to write what Pydantic essentially does for us\n",
    "\n",
    "class ValidationError(Exception):\n",
    "    ...\n",
    "\n",
    "class BaseValidator:\n",
    "    def __init__(self, /, **kwargs):\n",
    "        for f_name, f_type in self.__annotations__.items():\n",
    "            value = kwargs.get(f_name)\n",
    "            if not isinstance(value, f_type):\n",
    "                raise ValidationError\n",
    "\n",
    "\n",
    "class Point(BaseValidator):\n",
    "    x: int\n",
    "    y: int\n",
    "\n",
    "Point(x=3,y=\"4\") # raises ValidationError"
   ]
  },
  {
   "cell_type": "code",
   "execution_count": 14,
   "metadata": {},
   "outputs": [
    {
     "ename": "ValidationError",
     "evalue": "1 validation error for Point\ny\n  Input should be a valid integer, unable to parse string as an integer [type=int_parsing, input_value='abcd', input_type=str]\n    For further information visit https://errors.pydantic.dev/2.10/v/int_parsing",
     "output_type": "error",
     "traceback": [
      "\u001b[0;31m---------------------------------------------------------------------------\u001b[0m",
      "\u001b[0;31mValidationError\u001b[0m                           Traceback (most recent call last)",
      "Cell \u001b[0;32mIn[14], line 8\u001b[0m\n\u001b[1;32m      5\u001b[0m     x: \u001b[38;5;28mint\u001b[39m\n\u001b[1;32m      6\u001b[0m     y: \u001b[38;5;28mint\u001b[39m\n\u001b[0;32m----> 8\u001b[0m \u001b[43mPoint\u001b[49m\u001b[43m(\u001b[49m\u001b[43mx\u001b[49m\u001b[38;5;241;43m=\u001b[39;49m\u001b[38;5;241;43m3\u001b[39;49m\u001b[43m,\u001b[49m\u001b[43my\u001b[49m\u001b[38;5;241;43m=\u001b[39;49m\u001b[38;5;124;43m\"\u001b[39;49m\u001b[38;5;124;43mabcd\u001b[39;49m\u001b[38;5;124;43m\"\u001b[39;49m\u001b[43m)\u001b[49m \u001b[38;5;66;03m# raises ValidationError\u001b[39;00m\n",
      "File \u001b[0;32m~/git/mathurk29/leetcode/.venv/lib/python3.12/site-packages/pydantic/main.py:214\u001b[0m, in \u001b[0;36mBaseModel.__init__\u001b[0;34m(self, **data)\u001b[0m\n\u001b[1;32m    212\u001b[0m \u001b[38;5;66;03m# `__tracebackhide__` tells pytest and some other tools to omit this function from tracebacks\u001b[39;00m\n\u001b[1;32m    213\u001b[0m __tracebackhide__ \u001b[38;5;241m=\u001b[39m \u001b[38;5;28;01mTrue\u001b[39;00m\n\u001b[0;32m--> 214\u001b[0m validated_self \u001b[38;5;241m=\u001b[39m \u001b[38;5;28;43mself\u001b[39;49m\u001b[38;5;241;43m.\u001b[39;49m\u001b[43m__pydantic_validator__\u001b[49m\u001b[38;5;241;43m.\u001b[39;49m\u001b[43mvalidate_python\u001b[49m\u001b[43m(\u001b[49m\u001b[43mdata\u001b[49m\u001b[43m,\u001b[49m\u001b[43m \u001b[49m\u001b[43mself_instance\u001b[49m\u001b[38;5;241;43m=\u001b[39;49m\u001b[38;5;28;43mself\u001b[39;49m\u001b[43m)\u001b[49m\n\u001b[1;32m    215\u001b[0m \u001b[38;5;28;01mif\u001b[39;00m \u001b[38;5;28mself\u001b[39m \u001b[38;5;129;01mis\u001b[39;00m \u001b[38;5;129;01mnot\u001b[39;00m validated_self:\n\u001b[1;32m    216\u001b[0m     warnings\u001b[38;5;241m.\u001b[39mwarn(\n\u001b[1;32m    217\u001b[0m         \u001b[38;5;124m'\u001b[39m\u001b[38;5;124mA custom validator is returning a value other than `self`.\u001b[39m\u001b[38;5;130;01m\\n\u001b[39;00m\u001b[38;5;124m'\u001b[39m\n\u001b[1;32m    218\u001b[0m         \u001b[38;5;124m\"\u001b[39m\u001b[38;5;124mReturning anything other than `self` from a top level model validator isn\u001b[39m\u001b[38;5;124m'\u001b[39m\u001b[38;5;124mt supported when validating via `__init__`.\u001b[39m\u001b[38;5;130;01m\\n\u001b[39;00m\u001b[38;5;124m\"\u001b[39m\n\u001b[1;32m    219\u001b[0m         \u001b[38;5;124m'\u001b[39m\u001b[38;5;124mSee the `model_validator` docs (https://docs.pydantic.dev/latest/concepts/validators/#model-validators) for more details.\u001b[39m\u001b[38;5;124m'\u001b[39m,\n\u001b[1;32m    220\u001b[0m         stacklevel\u001b[38;5;241m=\u001b[39m\u001b[38;5;241m2\u001b[39m,\n\u001b[1;32m    221\u001b[0m     )\n",
      "\u001b[0;31mValidationError\u001b[0m: 1 validation error for Point\ny\n  Input should be a valid integer, unable to parse string as an integer [type=int_parsing, input_value='abcd', input_type=str]\n    For further information visit https://errors.pydantic.dev/2.10/v/int_parsing"
     ]
    }
   ],
   "source": [
    "from pydantic import BaseModel\n",
    "\n",
    "\n",
    "class Point(BaseModel):\n",
    "    x: int\n",
    "    y: int\n",
    "\n",
    "Point(x=3,y=\"abcd\") # raises ValidationError"
   ]
  },
  {
   "cell_type": "code",
   "execution_count": null,
   "metadata": {},
   "outputs": [
    {
     "data": {
      "text/plain": [
       "Point(x=3, y=5)"
      ]
     },
     "execution_count": 16,
     "metadata": {},
     "output_type": "execute_result"
    }
   ],
   "source": [
    "# note if implicit conversion is possible then it is done by Pydantic\n",
    "\n",
    "Point(x=3,y='5')\n",
    "\n"
   ]
  },
  {
   "cell_type": "code",
   "execution_count": 24,
   "metadata": {},
   "outputs": [
    {
     "ename": "ValidationError",
     "evalue": "1 validation error for Point\ny\n  Input should be a valid integer [type=int_type, input_value='5', input_type=str]\n    For further information visit https://errors.pydantic.dev/2.10/v/int_type",
     "output_type": "error",
     "traceback": [
      "\u001b[0;31m---------------------------------------------------------------------------\u001b[0m",
      "\u001b[0;31mValidationError\u001b[0m                           Traceback (most recent call last)",
      "Cell \u001b[0;32mIn[24], line 7\u001b[0m\n\u001b[1;32m      4\u001b[0m     x: \u001b[38;5;28mint\u001b[39m\n\u001b[1;32m      5\u001b[0m     y: \u001b[38;5;28mint\u001b[39m\n\u001b[0;32m----> 7\u001b[0m \u001b[43mPoint\u001b[49m\u001b[43m(\u001b[49m\u001b[43mx\u001b[49m\u001b[38;5;241;43m=\u001b[39;49m\u001b[38;5;241;43m3\u001b[39;49m\u001b[43m,\u001b[49m\u001b[43my\u001b[49m\u001b[38;5;241;43m=\u001b[39;49m\u001b[38;5;124;43m'\u001b[39;49m\u001b[38;5;124;43m5\u001b[39;49m\u001b[38;5;124;43m'\u001b[39;49m\u001b[43m)\u001b[49m \u001b[38;5;66;03m# raises ValidationError\u001b[39;00m\n",
      "File \u001b[0;32m~/git/mathurk29/leetcode/.venv/lib/python3.12/site-packages/pydantic/main.py:214\u001b[0m, in \u001b[0;36mBaseModel.__init__\u001b[0;34m(self, **data)\u001b[0m\n\u001b[1;32m    212\u001b[0m \u001b[38;5;66;03m# `__tracebackhide__` tells pytest and some other tools to omit this function from tracebacks\u001b[39;00m\n\u001b[1;32m    213\u001b[0m __tracebackhide__ \u001b[38;5;241m=\u001b[39m \u001b[38;5;28;01mTrue\u001b[39;00m\n\u001b[0;32m--> 214\u001b[0m validated_self \u001b[38;5;241m=\u001b[39m \u001b[38;5;28;43mself\u001b[39;49m\u001b[38;5;241;43m.\u001b[39;49m\u001b[43m__pydantic_validator__\u001b[49m\u001b[38;5;241;43m.\u001b[39;49m\u001b[43mvalidate_python\u001b[49m\u001b[43m(\u001b[49m\u001b[43mdata\u001b[49m\u001b[43m,\u001b[49m\u001b[43m \u001b[49m\u001b[43mself_instance\u001b[49m\u001b[38;5;241;43m=\u001b[39;49m\u001b[38;5;28;43mself\u001b[39;49m\u001b[43m)\u001b[49m\n\u001b[1;32m    215\u001b[0m \u001b[38;5;28;01mif\u001b[39;00m \u001b[38;5;28mself\u001b[39m \u001b[38;5;129;01mis\u001b[39;00m \u001b[38;5;129;01mnot\u001b[39;00m validated_self:\n\u001b[1;32m    216\u001b[0m     warnings\u001b[38;5;241m.\u001b[39mwarn(\n\u001b[1;32m    217\u001b[0m         \u001b[38;5;124m'\u001b[39m\u001b[38;5;124mA custom validator is returning a value other than `self`.\u001b[39m\u001b[38;5;130;01m\\n\u001b[39;00m\u001b[38;5;124m'\u001b[39m\n\u001b[1;32m    218\u001b[0m         \u001b[38;5;124m\"\u001b[39m\u001b[38;5;124mReturning anything other than `self` from a top level model validator isn\u001b[39m\u001b[38;5;124m'\u001b[39m\u001b[38;5;124mt supported when validating via `__init__`.\u001b[39m\u001b[38;5;130;01m\\n\u001b[39;00m\u001b[38;5;124m\"\u001b[39m\n\u001b[1;32m    219\u001b[0m         \u001b[38;5;124m'\u001b[39m\u001b[38;5;124mSee the `model_validator` docs (https://docs.pydantic.dev/latest/concepts/validators/#model-validators) for more details.\u001b[39m\u001b[38;5;124m'\u001b[39m,\n\u001b[1;32m    220\u001b[0m         stacklevel\u001b[38;5;241m=\u001b[39m\u001b[38;5;241m2\u001b[39m,\n\u001b[1;32m    221\u001b[0m     )\n",
      "\u001b[0;31mValidationError\u001b[0m: 1 validation error for Point\ny\n  Input should be a valid integer [type=int_type, input_value='5', input_type=str]\n    For further information visit https://errors.pydantic.dev/2.10/v/int_type"
     ]
    }
   ],
   "source": [
    "# But if\n",
    "\n",
    "class Point(BaseModel, strict=True):\n",
    "    x: int\n",
    "    y: int\n",
    "\n",
    "Point(x=3,y='5') # raises ValidationError"
   ]
  },
  {
   "cell_type": "code",
   "execution_count": 23,
   "metadata": {},
   "outputs": [
    {
     "name": "stdout",
     "output_type": "stream",
     "text": [
      "{'x': 3, 'y': 5}\n",
      "{\"x\":3,\"y\":5}\n"
     ]
    },
    {
     "data": {
      "text/plain": [
       "'2.10.6'"
      ]
     },
     "execution_count": 23,
     "metadata": {},
     "output_type": "execute_result"
    }
   ],
   "source": [
    "p = Point(x=3,y=5)\n",
    "print(p.model_dump())\n",
    "\n",
    "print(p.model_dump_json())\n",
    "\n",
    "\n",
    "p.model_dump()\n",
    "p.model_dump_json()\n",
    "\n",
    "import pydantic\n",
    "pydantic.version.VERSION"
   ]
  },
  {
   "cell_type": "code",
   "execution_count": null,
   "metadata": {},
   "outputs": [],
   "source": [
    "# Pydantic does  Ser De Validation of JSON to native Python\n",
    "\n",
    "# Pydantic use type hints and masrshmallow uses object schemas  \n",
    "\n"
   ]
  },
  {
   "cell_type": "markdown",
   "metadata": {},
   "source": [
    "## What does FastAPI do? "
   ]
  },
  {
   "cell_type": "code",
   "execution_count": 1,
   "metadata": {},
   "outputs": [
    {
     "name": "stdout",
     "output_type": "stream",
     "text": [
      "Requirement already satisfied: fastapi[standard] in /home/mathurk29/git/mathurk29/leetcode/.venv/lib/python3.12/site-packages (0.115.8)\n",
      "Requirement already satisfied: starlette<0.46.0,>=0.40.0 in /home/mathurk29/git/mathurk29/leetcode/.venv/lib/python3.12/site-packages (from fastapi[standard]) (0.45.3)\n",
      "Requirement already satisfied: pydantic!=1.8,!=1.8.1,!=2.0.0,!=2.0.1,!=2.1.0,<3.0.0,>=1.7.4 in /home/mathurk29/git/mathurk29/leetcode/.venv/lib/python3.12/site-packages (from fastapi[standard]) (2.10.6)\n",
      "Requirement already satisfied: typing-extensions>=4.8.0 in /home/mathurk29/git/mathurk29/leetcode/.venv/lib/python3.12/site-packages (from fastapi[standard]) (4.12.2)\n",
      "Requirement already satisfied: fastapi-cli>=0.0.5 in /home/mathurk29/git/mathurk29/leetcode/.venv/lib/python3.12/site-packages (from fastapi-cli[standard]>=0.0.5; extra == \"standard\"->fastapi[standard]) (0.0.7)\n",
      "Requirement already satisfied: httpx>=0.23.0 in /home/mathurk29/git/mathurk29/leetcode/.venv/lib/python3.12/site-packages (from fastapi[standard]) (0.28.1)\n",
      "Requirement already satisfied: jinja2>=3.1.5 in /home/mathurk29/git/mathurk29/leetcode/.venv/lib/python3.12/site-packages (from fastapi[standard]) (3.1.5)\n",
      "Requirement already satisfied: python-multipart>=0.0.18 in /home/mathurk29/git/mathurk29/leetcode/.venv/lib/python3.12/site-packages (from fastapi[standard]) (0.0.20)\n",
      "Requirement already satisfied: email-validator>=2.0.0 in /home/mathurk29/git/mathurk29/leetcode/.venv/lib/python3.12/site-packages (from fastapi[standard]) (2.2.0)\n",
      "Requirement already satisfied: uvicorn>=0.12.0 in /home/mathurk29/git/mathurk29/leetcode/.venv/lib/python3.12/site-packages (from uvicorn[standard]>=0.12.0; extra == \"standard\"->fastapi[standard]) (0.34.0)\n",
      "Requirement already satisfied: dnspython>=2.0.0 in /home/mathurk29/git/mathurk29/leetcode/.venv/lib/python3.12/site-packages (from email-validator>=2.0.0->fastapi[standard]) (2.7.0)\n",
      "Requirement already satisfied: idna>=2.0.0 in /home/mathurk29/git/mathurk29/leetcode/.venv/lib/python3.12/site-packages (from email-validator>=2.0.0->fastapi[standard]) (3.10)\n",
      "Requirement already satisfied: typer>=0.12.3 in /home/mathurk29/git/mathurk29/leetcode/.venv/lib/python3.12/site-packages (from fastapi-cli>=0.0.5->fastapi-cli[standard]>=0.0.5; extra == \"standard\"->fastapi[standard]) (0.15.1)\n",
      "Requirement already satisfied: rich-toolkit>=0.11.1 in /home/mathurk29/git/mathurk29/leetcode/.venv/lib/python3.12/site-packages (from fastapi-cli>=0.0.5->fastapi-cli[standard]>=0.0.5; extra == \"standard\"->fastapi[standard]) (0.13.2)\n",
      "Requirement already satisfied: anyio in /home/mathurk29/git/mathurk29/leetcode/.venv/lib/python3.12/site-packages (from httpx>=0.23.0->fastapi[standard]) (4.8.0)\n",
      "Requirement already satisfied: certifi in /home/mathurk29/git/mathurk29/leetcode/.venv/lib/python3.12/site-packages (from httpx>=0.23.0->fastapi[standard]) (2025.1.31)\n",
      "Requirement already satisfied: httpcore==1.* in /home/mathurk29/git/mathurk29/leetcode/.venv/lib/python3.12/site-packages (from httpx>=0.23.0->fastapi[standard]) (1.0.7)\n",
      "Requirement already satisfied: h11<0.15,>=0.13 in /home/mathurk29/git/mathurk29/leetcode/.venv/lib/python3.12/site-packages (from httpcore==1.*->httpx>=0.23.0->fastapi[standard]) (0.14.0)\n",
      "Requirement already satisfied: MarkupSafe>=2.0 in /home/mathurk29/git/mathurk29/leetcode/.venv/lib/python3.12/site-packages (from jinja2>=3.1.5->fastapi[standard]) (3.0.2)\n",
      "Requirement already satisfied: annotated-types>=0.6.0 in /home/mathurk29/git/mathurk29/leetcode/.venv/lib/python3.12/site-packages (from pydantic!=1.8,!=1.8.1,!=2.0.0,!=2.0.1,!=2.1.0,<3.0.0,>=1.7.4->fastapi[standard]) (0.7.0)\n",
      "Requirement already satisfied: pydantic-core==2.27.2 in /home/mathurk29/git/mathurk29/leetcode/.venv/lib/python3.12/site-packages (from pydantic!=1.8,!=1.8.1,!=2.0.0,!=2.0.1,!=2.1.0,<3.0.0,>=1.7.4->fastapi[standard]) (2.27.2)\n",
      "Requirement already satisfied: click>=7.0 in /home/mathurk29/git/mathurk29/leetcode/.venv/lib/python3.12/site-packages (from uvicorn>=0.12.0->uvicorn[standard]>=0.12.0; extra == \"standard\"->fastapi[standard]) (8.1.7)\n",
      "Requirement already satisfied: httptools>=0.6.3 in /home/mathurk29/git/mathurk29/leetcode/.venv/lib/python3.12/site-packages (from uvicorn[standard]>=0.12.0; extra == \"standard\"->fastapi[standard]) (0.6.4)\n",
      "Requirement already satisfied: python-dotenv>=0.13 in /home/mathurk29/git/mathurk29/leetcode/.venv/lib/python3.12/site-packages (from uvicorn[standard]>=0.12.0; extra == \"standard\"->fastapi[standard]) (1.0.1)\n",
      "Requirement already satisfied: pyyaml>=5.1 in /home/mathurk29/git/mathurk29/leetcode/.venv/lib/python3.12/site-packages (from uvicorn[standard]>=0.12.0; extra == \"standard\"->fastapi[standard]) (6.0.2)\n",
      "Requirement already satisfied: uvloop!=0.15.0,!=0.15.1,>=0.14.0 in /home/mathurk29/git/mathurk29/leetcode/.venv/lib/python3.12/site-packages (from uvicorn[standard]>=0.12.0; extra == \"standard\"->fastapi[standard]) (0.21.0)\n",
      "Requirement already satisfied: watchfiles>=0.13 in /home/mathurk29/git/mathurk29/leetcode/.venv/lib/python3.12/site-packages (from uvicorn[standard]>=0.12.0; extra == \"standard\"->fastapi[standard]) (1.0.4)\n",
      "Requirement already satisfied: websockets>=10.4 in /home/mathurk29/git/mathurk29/leetcode/.venv/lib/python3.12/site-packages (from uvicorn[standard]>=0.12.0; extra == \"standard\"->fastapi[standard]) (15.0)\n",
      "Requirement already satisfied: sniffio>=1.1 in /home/mathurk29/git/mathurk29/leetcode/.venv/lib/python3.12/site-packages (from anyio->httpx>=0.23.0->fastapi[standard]) (1.3.1)\n",
      "Requirement already satisfied: rich>=13.7.1 in /home/mathurk29/git/mathurk29/leetcode/.venv/lib/python3.12/site-packages (from rich-toolkit>=0.11.1->fastapi-cli>=0.0.5->fastapi-cli[standard]>=0.0.5; extra == \"standard\"->fastapi[standard]) (13.9.4)\n",
      "Requirement already satisfied: shellingham>=1.3.0 in /home/mathurk29/git/mathurk29/leetcode/.venv/lib/python3.12/site-packages (from typer>=0.12.3->fastapi-cli>=0.0.5->fastapi-cli[standard]>=0.0.5; extra == \"standard\"->fastapi[standard]) (1.5.4)\n",
      "Requirement already satisfied: markdown-it-py>=2.2.0 in /home/mathurk29/git/mathurk29/leetcode/.venv/lib/python3.12/site-packages (from rich>=13.7.1->rich-toolkit>=0.11.1->fastapi-cli>=0.0.5->fastapi-cli[standard]>=0.0.5; extra == \"standard\"->fastapi[standard]) (3.0.0)\n",
      "Requirement already satisfied: pygments<3.0.0,>=2.13.0 in /home/mathurk29/git/mathurk29/leetcode/.venv/lib/python3.12/site-packages (from rich>=13.7.1->rich-toolkit>=0.11.1->fastapi-cli>=0.0.5->fastapi-cli[standard]>=0.0.5; extra == \"standard\"->fastapi[standard]) (2.19.1)\n",
      "Requirement already satisfied: mdurl~=0.1 in /home/mathurk29/git/mathurk29/leetcode/.venv/lib/python3.12/site-packages (from markdown-it-py>=2.2.0->rich>=13.7.1->rich-toolkit>=0.11.1->fastapi-cli>=0.0.5->fastapi-cli[standard]>=0.0.5; extra == \"standard\"->fastapi[standard]) (0.1.2)\n",
      "\n",
      "\u001b[1m[\u001b[0m\u001b[34;49mnotice\u001b[0m\u001b[1;39;49m]\u001b[0m\u001b[39;49m A new release of pip is available: \u001b[0m\u001b[31;49m24.0\u001b[0m\u001b[39;49m -> \u001b[0m\u001b[32;49m25.0.1\u001b[0m\n",
      "\u001b[1m[\u001b[0m\u001b[34;49mnotice\u001b[0m\u001b[1;39;49m]\u001b[0m\u001b[39;49m To update, run: \u001b[0m\u001b[32;49mpip install --upgrade pip\u001b[0m\n",
      "Note: you may need to restart the kernel to use updated packages.\n"
     ]
    }
   ],
   "source": [
    "%pip install fastapi[standard]"
   ]
  },
  {
   "cell_type": "code",
   "execution_count": null,
   "metadata": {},
   "outputs": [],
   "source": [
    "from fastapi import FastAPI\n",
    "import uvicorn\n",
    "\n",
    "app = FastAPI()\n",
    "\n",
    "def MyPayload(BaseModel):\n",
    "    x : int\n",
    "\n",
    "@app.post(\"/{path_params}\")\n",
    "async def handler(path_params: str, query_params: str, payload: MyPayload):\n",
    "    return {\"x\": 1} # It gets automatically serialized to JSON\n",
    "\n",
    "uvicorn.run(app) # Cannot run here from Jupyter\n"
   ]
  },
  {
   "cell_type": "code",
   "execution_count": null,
   "metadata": {},
   "outputs": [],
   "source": [
    "## Now similar things are done by less known frameworks like quart, sanic\n",
    "\n",
    "## Then why FastAPI??\n",
    "\n",
    "## The best thing is DependencyInjection\n",
    "## Dependencies can be DB connections,  authentication, catching data from headers to your endpoings etc...\n",
    "\n",
    "from fastapi import Depends\n",
    "\n"
   ]
  },
  {
   "cell_type": "markdown",
   "metadata": {},
   "source": [
    "Consider that your task is:\n",
    "\n",
    "Take token from header -> decode token -> get corresponding user -> validate if user has permission \n",
    "\n",
    "these 4 tasks can be neseted DI\n",
    "\n"
   ]
  },
  {
   "cell_type": "markdown",
   "metadata": {},
   "source": [
    "ta"
   ]
  }
 ],
 "metadata": {
  "kernelspec": {
   "display_name": ".venv",
   "language": "python",
   "name": "python3"
  },
  "language_info": {
   "codemirror_mode": {
    "name": "ipython",
    "version": 3
   },
   "file_extension": ".py",
   "mimetype": "text/x-python",
   "name": "python",
   "nbconvert_exporter": "python",
   "pygments_lexer": "ipython3",
   "version": "3.12.4"
  }
 },
 "nbformat": 4,
 "nbformat_minor": 2
}

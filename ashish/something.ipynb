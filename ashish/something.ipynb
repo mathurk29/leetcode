{
 "cells": [
  {
   "cell_type": "code",
   "execution_count": 9,
   "metadata": {},
   "outputs": [
    {
     "name": "stdout",
     "output_type": "stream",
     "text": [
      "John\n",
      "30\n"
     ]
    }
   ],
   "source": [
    "class MyClass:\n",
    "    __slots__ = ['name', 'age']\n",
    "\n",
    "    def __init__(self, name, age):\n",
    "        self.name = name\n",
    "        self.age = age\n",
    "\n",
    "\n",
    "obj = MyClass('John', 30)\n",
    "print(obj.name)  # Accessing slot, outputs 'John'\n",
    "print(obj.age)   # Accessing slot, outputs 30\n",
    "# obj.address = '123 Main St'  # This would raise an AttributeError since 'address' is not in __slots__"
   ]
  },
  {
   "cell_type": "code",
   "execution_count": 8,
   "metadata": {},
   "outputs": [
    {
     "name": "stdout",
     "output_type": "stream",
     "text": [
      "John\n",
      "30\n",
      "{'address': '123 Main St'}\n"
     ]
    }
   ],
   "source": [
    "class MyClass:\n",
    "    __slots__ = ['name', 'age', '__dict__']\n",
    "\n",
    "    def __init__(self, name, age):\n",
    "        self.name = name\n",
    "        self.age = age\n",
    "\n",
    "\n",
    "obj = MyClass('John', 30)\n",
    "print(obj.name)  # Accessing slot, outputs 'John'\n",
    "print(obj.age)   # Accessing slot, outputs 30\n",
    "obj.address = '123 Main St'  # No error raised as __dict__ is present\n",
    "print(obj.__dict__)  # Outputs {'address': '123 Main St'}"
   ]
  },
  {
   "cell_type": "code",
   "execution_count": 10,
   "metadata": {},
   "outputs": [
    {
     "ename": "TypeError",
     "evalue": "exceptions must derive from BaseException",
     "output_type": "error",
     "traceback": [
      "\u001b[0;31m---------------------------------------------------------------------------\u001b[0m",
      "\u001b[0;31mTypeError\u001b[0m                                 Traceback (most recent call last)",
      "Cell \u001b[0;32mIn[10], line 6\u001b[0m\n\u001b[1;32m      3\u001b[0m \u001b[38;5;28;01mclass\u001b[39;00m\u001b[38;5;250m \u001b[39m\u001b[38;5;21;01mNotAnError\u001b[39;00m():\n\u001b[1;32m      4\u001b[0m     \u001b[38;5;28;01mpass\u001b[39;00m\n\u001b[0;32m----> 6\u001b[0m \u001b[38;5;28;01mraise\u001b[39;00m NotAnError()\n",
      "\u001b[0;31mTypeError\u001b[0m: exceptions must derive from BaseException"
     ]
    }
   ],
   "source": [
    "# Classes for Custom exceptions should be derived from BaseException\n",
    "# \n",
    "class NotAnError():\n",
    "    pass\n",
    "\n",
    "raise NotAnError()"
   ]
  },
  {
   "cell_type": "code",
   "execution_count": 18,
   "metadata": {},
   "outputs": [
    {
     "ename": "AnError",
     "evalue": "Ooh Intentional Error - Yeah!",
     "output_type": "error",
     "traceback": [
      "\u001b[0;31m---------------------------------------------------------------------------\u001b[0m",
      "\u001b[0;31mAnError\u001b[0m                                   Traceback (most recent call last)",
      "Cell \u001b[0;32mIn[18], line 4\u001b[0m\n\u001b[1;32m      1\u001b[0m \u001b[38;5;28;01mclass\u001b[39;00m\u001b[38;5;250m \u001b[39m\u001b[38;5;21;01mAnError\u001b[39;00m(\u001b[38;5;167;01mBaseException\u001b[39;00m):\n\u001b[1;32m      2\u001b[0m     \u001b[38;5;28;01mpass\u001b[39;00m\n\u001b[0;32m----> 4\u001b[0m \u001b[38;5;28;01mraise\u001b[39;00m AnError(\u001b[38;5;124m\"\u001b[39m\u001b[38;5;124mOoh Intentional Error - Yeah!\u001b[39m\u001b[38;5;124m\"\u001b[39m)\n",
      "\u001b[0;31mAnError\u001b[0m: Ooh Intentional Error - Yeah!"
     ]
    }
   ],
   "source": [
    "class AnError(BaseException):\n",
    "    pass\n",
    "\n",
    "raise AnError(\"Ooh Intentional Error - Yeah!\")"
   ]
  },
  {
   "cell_type": "code",
   "execution_count": null,
   "metadata": {},
   "outputs": [],
   "source": [
    "# ABC can have have both concrete and abstract methods.\n",
    "# Interfaces have only method declarations\n",
    "\n",
    "from abc import ABC, abstractmethod\n",
    "\n",
    "class Shape(ABC):\n",
    "    @abstractmethod\n",
    "    def area(self):\n",
    "        pass\n",
    "    \n",
    "    def describe(self):\n",
    "        return \"this is a shape\"\n",
    "    \n",
    "# There is no as such interface in python - if we create a ABC class and don't put any concrete methods - it is similar to interface\n",
    "\n",
    "\n",
    "# Note ABC can't be instantiated!!"
   ]
  },
  {
   "cell_type": "code",
   "execution_count": null,
   "metadata": {},
   "outputs": [],
   "source": []
  }
 ],
 "metadata": {
  "kernelspec": {
   "display_name": ".venv",
   "language": "python",
   "name": "python3"
  },
  "language_info": {
   "codemirror_mode": {
    "name": "ipython",
    "version": 3
   },
   "file_extension": ".py",
   "mimetype": "text/x-python",
   "name": "python",
   "nbconvert_exporter": "python",
   "pygments_lexer": "ipython3",
   "version": "3.12.4"
  }
 },
 "nbformat": 4,
 "nbformat_minor": 2
}

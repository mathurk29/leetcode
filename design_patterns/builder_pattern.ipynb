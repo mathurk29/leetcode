{
 "cells": [
  {
   "cell_type": "markdown",
   "metadata": {
    "vscode": {
     "languageId": "plaintext"
    }
   },
   "source": [
    "## Builder pattern\n",
    "\n",
    "This pattern separate the construction process from the representation of the object.\n"
   ]
  },
  {
   "cell_type": "markdown",
   "metadata": {},
   "source": [
    "\n",
    "Represent object:\n"
   ]
  },
  {
   "cell_type": "code",
   "execution_count": 1,
   "metadata": {},
   "outputs": [],
   "source": [
    "\n",
    "class Computer:\n",
    "    def __init__(self):\n",
    "        self.components = {}\n",
    "        \n",
    "    def add_component(self, key, value):\n",
    "        self.components[key] = value\n",
    "        \n",
    "    def __str__(self):\n",
    "        return ', '.join(f\"{k}: {v}\" for k, v in self.components.items())\n"
   ]
  },
  {
   "cell_type": "markdown",
   "metadata": {},
   "source": [
    "\n",
    "Blueprint for constructing components\n"
   ]
  },
  {
   "cell_type": "code",
   "execution_count": 2,
   "metadata": {},
   "outputs": [],
   "source": [
    "\n",
    "from abc import ABC, abstractmethod\n",
    "\n",
    "class ComputerBuilder(ABC):\n",
    "    @abstractmethod\n",
    "    def set_cpu(self):\n",
    "        pass\n",
    "    \n",
    "    @abstractmethod\n",
    "    def set_gpu(self):\n",
    "        pass\n",
    "    \n",
    "    @abstractmethod\n",
    "    def set_memory(self):\n",
    "        pass\n",
    "    \n",
    "    @abstractmethod\n",
    "    def set_storage(self):\n",
    "        pass\n",
    "    \n",
    "    @abstractmethod\n",
    "    def build(self):\n",
    "        pass\n",
    "\n"
   ]
  },
  {
   "cell_type": "markdown",
   "metadata": {},
   "source": [
    "\n",
    "Various types of constructors (Builder)\n"
   ]
  },
  {
   "cell_type": "code",
   "execution_count": 3,
   "metadata": {},
   "outputs": [],
   "source": [
    "\n",
    "class GamingComputerBuilder(ComputerBuilder):\n",
    "    def __init__(self):\n",
    "        self.computer = Computer()\n",
    "    \n",
    "    def set_cpu(self):\n",
    "        self.computer.add_component(\"CPU\", \"Intel i9\")\n",
    "    \n",
    "    def set_gpu(self):\n",
    "        self.computer.add_component(\"GPU\", \"NVIDIA RTX 3080\")\n",
    "    \n",
    "    def set_memory(self):\n",
    "        self.computer.add_component(\"Memory\", \"32GB\")\n",
    "    \n",
    "    def set_storage(self):\n",
    "        self.computer.add_component(\"Storage\", \"1TB SSD\")\n",
    "    \n",
    "    def build(self):\n",
    "        return self.computer\n",
    "\n",
    "class WorkComputerBuilder(ComputerBuilder):\n",
    "    def __init__(self):\n",
    "        self.computer = Computer()\n",
    "    \n",
    "    def set_cpu(self):\n",
    "        self.computer.add_component(\"CPU\", \"Intel i5\")\n",
    "    \n",
    "    def set_gpu(self):\n",
    "        self.computer.add_component(\"GPU\", \"Integrated\")\n",
    "    \n",
    "    def set_memory(self):\n",
    "        self.computer.add_component(\"Memory\", \"16GB\")\n",
    "    \n",
    "    def set_storage(self):\n",
    "        self.computer.add_component(\"Storage\", \"512GB SSD\")\n",
    "    \n",
    "    def build(self):\n",
    "        return self.computer"
   ]
  },
  {
   "cell_type": "markdown",
   "metadata": {},
   "source": [
    "\n",
    "Director class that accepts which bulder to use to construct the representation to final complext object\n",
    "\n"
   ]
  },
  {
   "cell_type": "code",
   "execution_count": 4,
   "metadata": {},
   "outputs": [],
   "source": [
    "\n",
    "class Director:\n",
    "    def __init__(self, builder):\n",
    "        self._builder = builder\n",
    "        \n",
    "    def construct_computer(self):\n",
    "        self._builder.set_cpu()\n",
    "        self._builder.set_gpu()\n",
    "        self._builder.set_memory()\n",
    "        self._builder.set_storage()\n",
    "        return self._builder.build()\n",
    "\n"
   ]
  },
  {
   "cell_type": "markdown",
   "metadata": {},
   "source": [
    "class that accepts which bulder to use to construct the representation to final complext object\n"
   ]
  },
  {
   "cell_type": "code",
   "execution_count": 5,
   "metadata": {},
   "outputs": [],
   "source": [
    "\n",
    "\n",
    "class Director:\n",
    "    def __init__(self, builder):\n",
    "        self._builder = builder\n",
    "        \n",
    "    def construct_computer(self):\n",
    "        self._builder.set_cpu()\n",
    "        self._builder.set_gpu()\n",
    "        self._builder.set_memory()\n",
    "        self._builder.set_storage()\n",
    "        return self._builder.build()\n",
    "\n"
   ]
  },
  {
   "cell_type": "markdown",
   "metadata": {},
   "source": [
    "\n",
    "## Main function:\n"
   ]
  },
  {
   "cell_type": "code",
   "execution_count": 8,
   "metadata": {},
   "outputs": [
    {
     "name": "stdout",
     "output_type": "stream",
     "text": [
      "Gaming Computer: CPU: Intel i9, GPU: NVIDIA RTX 3080, Memory: 32GB, Storage: 1TB SSD\n",
      "Work Computer: CPU: Intel i5, GPU: Integrated, Memory: 16GB, Storage: 512GB SSD\n"
     ]
    }
   ],
   "source": [
    "\n",
    "def main():\n",
    "  # Create a gaming computer\n",
    "  gaming_builder = GamingComputerBuilder()\n",
    "  director = Director(gaming_builder)\n",
    "  gaming_computer = director.construct_computer()\n",
    "  print(\"Gaming Computer:\", gaming_computer)\n",
    "\n",
    "  # Create a work computer\n",
    "  work_builder = WorkComputerBuilder()\n",
    "  director = Director(work_builder)\n",
    "  work_computer = director.construct_computer()\n",
    "  print(\"Work Computer:\", work_computer)\n",
    "\n",
    "main()"
   ]
  }
 ],
 "metadata": {
  "kernelspec": {
   "display_name": ".venv",
   "language": "python",
   "name": "python3"
  },
  "language_info": {
   "codemirror_mode": {
    "name": "ipython",
    "version": 3
   },
   "file_extension": ".py",
   "mimetype": "text/x-python",
   "name": "python",
   "nbconvert_exporter": "python",
   "pygments_lexer": "ipython3",
   "version": "3.12.4"
  }
 },
 "nbformat": 4,
 "nbformat_minor": 2
}
